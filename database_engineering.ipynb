{
 "cells": [
  {
   "cell_type": "code",
   "execution_count": 1,
   "metadata": {
    "collapsed": true
   },
   "outputs": [],
   "source": [
    "# Ddd dependencies\n",
    "import pandas as pd\n",
    "\n",
    "from sqlalchemy import create_engine\n",
    "from sqlalchemy.orm import Session\n",
    "from sqlalchemy.ext.declarative import declarative_base\n",
    "Base = declarative_base()\n",
    "\n",
    "from sqlalchemy import Column, Integer, String, Float, Date"
   ]
  },
  {
   "cell_type": "code",
   "execution_count": 2,
   "metadata": {
    "collapsed": true
   },
   "outputs": [],
   "source": [
    "# Load csv files\n",
    "usa_data = 'clean_data/clean_data_usa.csv'"
   ]
  },
  {
   "cell_type": "code",
   "execution_count": 3,
   "metadata": {},
   "outputs": [
    {
     "name": "stderr",
     "output_type": "stream",
     "text": [
      "C:\\ProgramData\\Anaconda3\\lib\\site-packages\\IPython\\core\\interactiveshell.py:2698: DtypeWarning: Columns (4) have mixed types. Specify dtype option on import or set low_memory=False.\n",
      "  interactivity=interactivity, compiler=compiler, result=result)\n"
     ]
    }
   ],
   "source": [
    "# Read Data File and store into Pandas Data Frames\n",
    "usa_df = pd.read_csv(usa_data, encoding = \"ISO-8859-1\")"
   ]
  },
  {
   "cell_type": "code",
   "execution_count": 4,
   "metadata": {},
   "outputs": [
    {
     "data": {
      "text/html": [
       "<div>\n",
       "<style>\n",
       "    .dataframe thead tr:only-child th {\n",
       "        text-align: right;\n",
       "    }\n",
       "\n",
       "    .dataframe thead th {\n",
       "        text-align: left;\n",
       "    }\n",
       "\n",
       "    .dataframe tbody tr th {\n",
       "        vertical-align: top;\n",
       "    }\n",
       "</style>\n",
       "<table border=\"1\" class=\"dataframe\">\n",
       "  <thead>\n",
       "    <tr style=\"text-align: right;\">\n",
       "      <th></th>\n",
       "      <th>id</th>\n",
       "      <th>name</th>\n",
       "      <th>host_id</th>\n",
       "      <th>host_name</th>\n",
       "      <th>neighbourhood_group</th>\n",
       "      <th>neighbourhood</th>\n",
       "      <th>latitude</th>\n",
       "      <th>longitude</th>\n",
       "      <th>room_type</th>\n",
       "      <th>price</th>\n",
       "      <th>minimum_nights</th>\n",
       "      <th>number_of_reviews</th>\n",
       "      <th>last_review</th>\n",
       "      <th>reviews_per_month</th>\n",
       "      <th>calculated_host_listings_count</th>\n",
       "      <th>availability_365</th>\n",
       "      <th>country</th>\n",
       "    </tr>\n",
       "  </thead>\n",
       "  <tbody>\n",
       "    <tr>\n",
       "      <th>0</th>\n",
       "      <td>38585</td>\n",
       "      <td>Charming Victorian twin BR for 2</td>\n",
       "      <td>165529</td>\n",
       "      <td>Evelyne</td>\n",
       "      <td>NaN</td>\n",
       "      <td>28804</td>\n",
       "      <td>35.651459</td>\n",
       "      <td>-82.627918</td>\n",
       "      <td>Private room</td>\n",
       "      <td>55</td>\n",
       "      <td>2</td>\n",
       "      <td>113</td>\n",
       "      <td>2018-07-15</td>\n",
       "      <td>1.20</td>\n",
       "      <td>1</td>\n",
       "      <td>77</td>\n",
       "      <td>usa</td>\n",
       "    </tr>\n",
       "    <tr>\n",
       "      <th>1</th>\n",
       "      <td>80713</td>\n",
       "      <td>Beautiful Downtown Homestead ??Monthly ? Sky Room</td>\n",
       "      <td>1675743</td>\n",
       "      <td>Janell</td>\n",
       "      <td>NaN</td>\n",
       "      <td>28801</td>\n",
       "      <td>35.586782</td>\n",
       "      <td>-82.549277</td>\n",
       "      <td>Private room</td>\n",
       "      <td>96</td>\n",
       "      <td>30</td>\n",
       "      <td>42</td>\n",
       "      <td>2016-08-29</td>\n",
       "      <td>0.47</td>\n",
       "      <td>5</td>\n",
       "      <td>365</td>\n",
       "      <td>usa</td>\n",
       "    </tr>\n",
       "    <tr>\n",
       "      <th>2</th>\n",
       "      <td>80905</td>\n",
       "      <td>French Industrial Chic Loft</td>\n",
       "      <td>427027</td>\n",
       "      <td>Celeste</td>\n",
       "      <td>NaN</td>\n",
       "      <td>28801</td>\n",
       "      <td>35.597006</td>\n",
       "      <td>-82.552370</td>\n",
       "      <td>Entire home/apt</td>\n",
       "      <td>765</td>\n",
       "      <td>1</td>\n",
       "      <td>82</td>\n",
       "      <td>2018-07-15</td>\n",
       "      <td>0.98</td>\n",
       "      <td>12</td>\n",
       "      <td>338</td>\n",
       "      <td>usa</td>\n",
       "    </tr>\n",
       "    <tr>\n",
       "      <th>3</th>\n",
       "      <td>80965</td>\n",
       "      <td>Downtown Asheville's Groovy Gem.</td>\n",
       "      <td>438413</td>\n",
       "      <td>Kelly</td>\n",
       "      <td>NaN</td>\n",
       "      <td>28801</td>\n",
       "      <td>35.605291</td>\n",
       "      <td>-82.556274</td>\n",
       "      <td>Entire home/apt</td>\n",
       "      <td>225</td>\n",
       "      <td>30</td>\n",
       "      <td>0</td>\n",
       "      <td>NaN</td>\n",
       "      <td>NaN</td>\n",
       "      <td>1</td>\n",
       "      <td>89</td>\n",
       "      <td>usa</td>\n",
       "    </tr>\n",
       "    <tr>\n",
       "      <th>4</th>\n",
       "      <td>86980</td>\n",
       "      <td>Downtown Urban Homestead ? Monthly ? Sage Rm</td>\n",
       "      <td>1675743</td>\n",
       "      <td>Janell</td>\n",
       "      <td>NaN</td>\n",
       "      <td>28801</td>\n",
       "      <td>35.585129</td>\n",
       "      <td>-82.550871</td>\n",
       "      <td>Private room</td>\n",
       "      <td>90</td>\n",
       "      <td>30</td>\n",
       "      <td>46</td>\n",
       "      <td>2016-08-16</td>\n",
       "      <td>0.53</td>\n",
       "      <td>5</td>\n",
       "      <td>365</td>\n",
       "      <td>usa</td>\n",
       "    </tr>\n",
       "  </tbody>\n",
       "</table>\n",
       "</div>"
      ],
      "text/plain": [
       "      id                                               name  host_id  \\\n",
       "0  38585                   Charming Victorian twin BR for 2   165529   \n",
       "1  80713  Beautiful Downtown Homestead ??Monthly ? Sky Room  1675743   \n",
       "2  80905                        French Industrial Chic Loft   427027   \n",
       "3  80965                   Downtown Asheville's Groovy Gem.   438413   \n",
       "4  86980       Downtown Urban Homestead ? Monthly ? Sage Rm  1675743   \n",
       "\n",
       "  host_name neighbourhood_group neighbourhood   latitude  longitude  \\\n",
       "0   Evelyne                 NaN         28804  35.651459 -82.627918   \n",
       "1    Janell                 NaN         28801  35.586782 -82.549277   \n",
       "2   Celeste                 NaN         28801  35.597006 -82.552370   \n",
       "3     Kelly                 NaN         28801  35.605291 -82.556274   \n",
       "4    Janell                 NaN         28801  35.585129 -82.550871   \n",
       "\n",
       "         room_type  price  minimum_nights  number_of_reviews last_review  \\\n",
       "0     Private room     55               2                113  2018-07-15   \n",
       "1     Private room     96              30                 42  2016-08-29   \n",
       "2  Entire home/apt    765               1                 82  2018-07-15   \n",
       "3  Entire home/apt    225              30                  0         NaN   \n",
       "4     Private room     90              30                 46  2016-08-16   \n",
       "\n",
       "   reviews_per_month  calculated_host_listings_count  availability_365 country  \n",
       "0               1.20                               1                77     usa  \n",
       "1               0.47                               5               365     usa  \n",
       "2               0.98                              12               338     usa  \n",
       "3                NaN                               1                89     usa  \n",
       "4               0.53                               5               365     usa  "
      ]
     },
     "execution_count": 4,
     "metadata": {},
     "output_type": "execute_result"
    }
   ],
   "source": [
    "usa_df.head()"
   ]
  },
  {
   "cell_type": "code",
   "execution_count": 5,
   "metadata": {
    "collapsed": true
   },
   "outputs": [],
   "source": [
    "# Create the Schools_data class# Creat \n",
    "class Usa_table(Base):\n",
    "    __tablename__ = 'usa_table'\n",
    "    id = Column(Integer, primary_key = True)\n",
    "    name = Column(String(255))\n",
    "    host_id = Column(Float)\n",
    "    host_name = Column(String(255))\n",
    "    neighbourhood_group = Column(String(255))\n",
    "    neighbourhood = Column(Integer)\n",
    "    latitude = Column(Float)\n",
    "    longitude = Column(Float)\n",
    "    room_type = Column(Float)\n",
    "    price = Column(Float)\n",
    "    minimum_nights = Column(Float)\n",
    "    number_of_reviews = Column(Float)\n",
    "    last_review = Column(Date)\n",
    "    reviews_per_month = Column(Float)\n",
    "    calculated_host_listings_count = Column(Integer)\n",
    "    availability_365 = Column(Float)\n",
    "    country = Column(String(255))    "
   ]
  },
  {
   "cell_type": "code",
   "execution_count": 6,
   "metadata": {
    "collapsed": true
   },
   "outputs": [],
   "source": [
    "# Create the datbase and add the classes\n",
    "engine = create_engine(\"sqlite:///database.sqlite\", echo = False)\n",
    "conn = engine.connect()\n",
    "session = Session(engine)\n",
    "\n",
    "Base.metadata.create_all(conn)"
   ]
  },
  {
   "cell_type": "code",
   "execution_count": 7,
   "metadata": {
    "collapsed": true
   },
   "outputs": [],
   "source": [
    "# Send the station dataframe to the sqlite database\n",
    "usa_df.to_sql('usa_table', engine, if_exists='replace')"
   ]
  }
 ],
 "metadata": {
  "kernelspec": {
   "display_name": "Python 3",
   "language": "python",
   "name": "python3"
  },
  "language_info": {
   "codemirror_mode": {
    "name": "ipython",
    "version": 3
   },
   "file_extension": ".py",
   "mimetype": "text/x-python",
   "name": "python",
   "nbconvert_exporter": "python",
   "pygments_lexer": "ipython3",
   "version": "3.6.3"
  }
 },
 "nbformat": 4,
 "nbformat_minor": 2
}
